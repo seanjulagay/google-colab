{
  "nbformat": 4,
  "nbformat_minor": 0,
  "metadata": {
    "colab": {
      "provenance": [],
      "authorship_tag": "ABX9TyPAtXvY9amV5HTXkcUzappd",
      "include_colab_link": true
    },
    "kernelspec": {
      "name": "python3",
      "display_name": "Python 3"
    },
    "language_info": {
      "name": "python"
    }
  },
  "cells": [
    {
      "cell_type": "markdown",
      "metadata": {
        "id": "view-in-github",
        "colab_type": "text"
      },
      "source": [
        "<a href=\"https://colab.research.google.com/github/seanjulagay/google-colab/blob/main/model_py.ipynb\" target=\"_parent\"><img src=\"https://colab.research.google.com/assets/colab-badge.svg\" alt=\"Open In Colab\"/></a>"
      ]
    },
    {
      "cell_type": "code",
      "execution_count": 15,
      "metadata": {
        "colab": {
          "base_uri": "https://localhost:8080/",
          "height": 130
        },
        "id": "hdjlXI55zvUG",
        "outputId": "ecc45d86-da98-459d-fbce-1f26dc6e761c"
      },
      "outputs": [
        {
          "output_type": "error",
          "ename": "SyntaxError",
          "evalue": "ignored",
          "traceback": [
            "\u001b[0;36m  File \u001b[0;32m\"<ipython-input-15-0b483cfd0d52>\"\u001b[0;36m, line \u001b[0;32m66\u001b[0m\n\u001b[0;31m    if(segment[freeway_route[i]] == 8 || segment[freeway_route[i]] == 1 || segment[freeway_route[i]] == 10 || segment[freeway_route[i]] == 6 || segment[freeway_route[i]] == 5):\u001b[0m\n\u001b[0m                                       ^\u001b[0m\n\u001b[0;31mSyntaxError\u001b[0m\u001b[0;31m:\u001b[0m invalid syntax\n"
          ]
        }
      ],
      "source": [
        "import math\n",
        "\n",
        "local_speed = 25\n",
        "major_speed = 40\n",
        "normal_freeway = 55\n",
        "congest_freeway = 18\n",
        "\n",
        "avg_redlight = 2\n",
        "left_on_major = 2.5\n",
        "\n",
        "stop_sign = 30\n",
        "\n",
        "segment = [0.0] * 11\n",
        "\n",
        "segment[0] = 1325 # 1\n",
        "segment[1] = 716 # 2\n",
        "segment[2] = 2800 # 3\n",
        "segment[3] = 3052 # 4\n",
        "segment[4] = 2995 # 5\n",
        "segment[5] = 1839 # 6\n",
        "segment[6] = 1725 # 7\n",
        "segment[7] = 707 # 8\n",
        "segment[8] = 2340 # 9\n",
        "segment[9] = 10235 # 10\n",
        "segment[10] = 868 # 11\n",
        "\n",
        "segtype = [0.0] * 11\n",
        "\n",
        "segtype[0] = \"local\" # 1\n",
        "segtype[1] = \"major\" # 2\n",
        "segtype[2] = \"major\" # 3\n",
        "segtype[3] = \"major\" # 4\n",
        "segtype[4] = \"major\" # 5\n",
        "segtype[5] = \"major\" # 6\n",
        "segtype[6] = \"major\" # 7\n",
        "segtype[7] = \"local\" # 8\n",
        "segtype[8] = \"major\" # 9\n",
        "segtype[9] = \"freeway\" # 10\n",
        "segtype[10] = \"major\" # 11\n",
        "\n",
        "for i in range(11):\n",
        "  segment[i] = segment[i] * 0.000189394\n",
        "\n",
        "freeway_normal = [0.]*6\n",
        "free_norm_cum = [0.]*6\n",
        "freeway_congest = [0.]*6\n",
        "free_con_cum = [0.]*6\n",
        "local = [0.]*8\n",
        "local_cum = [0.]*8\n",
        "\n",
        "ind = [1,2,3,4,5,6,7,8]\n",
        "\n",
        "freeway_route = [0, 8, 9, 10, 6, 7]\n",
        "\n",
        "for i in range(len(freeway_route)):\n",
        "  if(segtype[freeway_route[i]] == \"local\"):\n",
        "    print(str(i) + \": local\")\n",
        "    freeway_normal[i] = segment[freeway_route[i]] / local_speed * 60\n",
        "  elif(segtype[freeway_route[i]] == \"major\"):\n",
        "    print(str(i) + \": major\")\n",
        "    freeway_normal[i] = segment[freeway_route[i]] / major_speed * 60\n",
        "  elif(segtype[freeway_route[i]] == \"freeway\"):\n",
        "    print(str(i) + \": freeway\")\n",
        "    freeway_normal[i] = segment[freeway_route[i]] / normal_freeway * 60\n",
        "\n",
        "  if(segment[freeway_route[i]] == 8 || segment[freeway_route[i]] == 1 || segment[freeway_route[i]] == 10 || segment[freeway_route[i]] == 6 || segment[freeway_route[i]] == 5):\n",
        "    # Traffic sign\n",
        "    freeway_normal[i] += 2\n",
        "  elif(segment[freeway_route[i]] == 0 || segment[freeway_route[i]] == 2 || segment[freeway_route[i]] == 3 || segment[freeway_route[i]] == 4):\n",
        "    # Stop sign\n",
        "    freeway_normal[i] += 0.5\n",
        "\n",
        "print(freeway_normal)\n"
      ]
    }
  ]
}